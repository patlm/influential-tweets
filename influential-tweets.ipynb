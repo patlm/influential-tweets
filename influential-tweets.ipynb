{
 "cells": [
  {
   "cell_type": "markdown",
   "metadata": {},
   "source": [
    "# Influential Tweets Analysis\n",
    "\n",
    "Welcome to the influential Tweets analysis notebook! The analysis can be configured using the variables under the Configuration heading. The output for the project will be found under the Example heading at the bottom."
   ]
  },
  {
   "cell_type": "markdown",
   "metadata": {},
   "source": [
    "## Imports"
   ]
  },
  {
   "cell_type": "code",
   "execution_count": 1,
   "metadata": {},
   "outputs": [],
   "source": [
    "import tweepy\n",
    "from dotenv import load_dotenv\n",
    "import os\n",
    "from enum import Enum\n",
    "import json\n",
    "\n",
    "def importUsers(users_file):\n",
    "    users = []\n",
    "    \n",
    "    with open(users_file) as json_file:\n",
    "        data = json.load(json_file)\n",
    "        for user in data['users']:\n",
    "            users.append(user['screen_name'])\n",
    "    \n",
    "    return users"
   ]
  },
  {
   "cell_type": "markdown",
   "metadata": {},
   "source": [
    "## Configuration"
   ]
  },
  {
   "cell_type": "code",
   "execution_count": 2,
   "metadata": {},
   "outputs": [],
   "source": [
    "# JSON file to import users from\n",
    "users_file = 'data/top-100.json' # other options include 'data/space-100.json' and 'data/finance-100.json'\n",
    "\n",
    "# List of users to analyze\n",
    "users = importUsers(users_file)\n",
    "\n",
    "# Date (inclusive) to start analyzing tweets of users\n",
    "# TODO: Not implemented\n",
    "start_date = None\n",
    "\n",
    "# Date (inclusive) to stop analyzing tweets of users\n",
    "# TODO: Not implemented\n",
    "end_date = None\n",
    "\n",
    "# Number of most recent tweets to look at for each user (Max = 200)\n",
    "num_tweets = 20\n",
    "\n",
    "# Threshold at which to print tweet urls to the screen for the example\n",
    "threshold = 3"
   ]
  },
  {
   "cell_type": "markdown",
   "metadata": {},
   "source": [
    "## Tweepy Configuration"
   ]
  },
  {
   "cell_type": "code",
   "execution_count": 3,
   "metadata": {},
   "outputs": [],
   "source": [
    "# Load env variables\n",
    "load_dotenv()\n",
    "consumer_key = os.getenv('CONSUMER_KEY')\n",
    "consumer_secret = os.getenv('CONSUMER_SECRET')\n",
    "\n",
    "# Set up tweepy with Twitter API\n",
    "auth = tweepy.OAuthHandler(consumer_key, consumer_secret)\n",
    "api = tweepy.API(auth)"
   ]
  },
  {
   "cell_type": "markdown",
   "metadata": {},
   "source": [
    "## Influential Tweets Class Definition\n",
    "\n",
    "The code block below contains the InfluentialTweetTracker class that hosts the logic for finding the commonly interacted with tweets between the different users. There are also two helper Enum classes."
   ]
  },
  {
   "cell_type": "code",
   "execution_count": 4,
   "metadata": {},
   "outputs": [],
   "source": [
    "class TweetType(Enum):\n",
    "    TWEET = 1\n",
    "    RETWEET = 2\n",
    "    REPLY_TWEET = 3\n",
    "    QUOTE_TWEET = 4\n",
    "    \n",
    "class TweetSelectionType(Enum):\n",
    "    BY_NUMBER = 1\n",
    "    BY_DATES = 2\n",
    "\n",
    "class InfluentialTweetTracker:\n",
    "    # Dictionary such that key = tweet id and value = # of times tweet has been interacted with by different users\n",
    "    tweet_counts = {}\n",
    "\n",
    "    # Constructor for class\n",
    "    # If start_date and end_date are specified, will use that when determing range\n",
    "    # of tweets to consider. Otherwise will use the count parameter.\n",
    "    def __init__(self, users, count = 10, start_date = None, end_date = None):\n",
    "        self.users = users\n",
    "        \n",
    "        if start_date is not None and end_date is not None:\n",
    "            self.start_date = start_date\n",
    "            self.end_date = end_date\n",
    "            self.selection_type = TweetSelectionType.BY_Date\n",
    "        else:\n",
    "            self.count = count\n",
    "            self.selection_type = TweetSelectionType.BY_NUMBER\n",
    "        \n",
    "    # Classifies type of tweet (returns TweetType enum)\n",
    "    def __classifyTweet(self, tweet):\n",
    "        if hasattr(tweet, 'retweeted_status'):\n",
    "            return TweetType.RETWEET\n",
    "        elif hasattr(tweet, 'quoted_status'):\n",
    "            return TweetType.QUOTE_TWEET\n",
    "        elif tweet.in_reply_to_status_id is not None:\n",
    "            return TweetType.REPLY_TWEET\n",
    "        else:\n",
    "            return TweetType.TWEET\n",
    "        \n",
    "    # If tweet at tweet_id does not exist in dictionary, creates a new entry, otherwise adds 1\n",
    "    def __addTweetToMap(self, tweet_id):\n",
    "        if tweet_id in self.tweet_counts:\n",
    "            self.tweet_counts[tweet_id] += 1\n",
    "        else: \n",
    "            self.tweet_counts[tweet_id] = 1\n",
    "        \n",
    "    # Main method that runs the analysis and returns the tweet_counts dictionary\n",
    "    def findInfluentialTweets(self):\n",
    "        self.tweet_counts = {}\n",
    "        \n",
    "        for user in self.users:\n",
    "            recent_tweets = None\n",
    "            \n",
    "            if self.selection_type == TweetSelectionType.BY_NUMBER:\n",
    "                recent_tweets = api.user_timeline(screen_name = user, count = self.count, tweet_mode = 'extended')\n",
    "            elif self.selection_type == TweetSelectionType.BY_DATES:\n",
    "                recent_tweets = api.user_timeline()\n",
    "            \n",
    "            for tweet in recent_tweets:\n",
    "                tweet_type = self.__classifyTweet(tweet)\n",
    "                \n",
    "                if tweet_type == TweetType.RETWEET:\n",
    "                    tweet_id = tweet.retweeted_status.id\n",
    "                    self.__addTweetToMap(tweet_id)\n",
    "                elif tweet_type == TweetType.QUOTE_TWEET:\n",
    "                    tweet_id = tweet.id\n",
    "                    tweet_quote_id = tweet.quoted_status.id\n",
    "                    self.__addTweetToMap(tweet_id)\n",
    "                    self.__addTweetToMap(tweet_quote_id)\n",
    "                elif tweet_type == TweetType.REPLY_TWEET:\n",
    "                    tweet_id = tweet.id\n",
    "                    tweet_reply_to_id = tweet.in_reply_to_status_id\n",
    "                    self.__addTweetToMap(tweet_id)\n",
    "                    self.__addTweetToMap(tweet_reply_to_id)\n",
    "                else:\n",
    "                    tweet_id = tweet.id\n",
    "                    self.__addTweetToMap(tweet_id)\n",
    "                \n",
    "        return self.tweet_counts"
   ]
  },
  {
   "cell_type": "markdown",
   "metadata": {},
   "source": [
    "## Example\n",
    "\n",
    "Below outputs links to the tweets above the threshold given the configuration specified under the Configuration heading."
   ]
  },
  {
   "cell_type": "code",
   "execution_count": 5,
   "metadata": {
    "scrolled": false
   },
   "outputs": [
    {
     "name": "stdout",
     "output_type": "stream",
     "text": [
      "https://twitter.com/any/status/1263682103490883588 - 3\n",
      "https://twitter.com/any/status/1263682100940677121 - 3\n",
      "https://twitter.com/any/status/1264564734860427265 - 3\n",
      "https://twitter.com/any/status/1264549210218790912 - 3\n",
      "https://twitter.com/any/status/1263913627066777601 - 3\n",
      "https://twitter.com/any/status/1264206707351269376 - 3\n",
      "https://twitter.com/any/status/1253374355599437830 - 3\n",
      "https://twitter.com/any/status/1264167544447029248 - 3\n"
     ]
    }
   ],
   "source": [
    "tracker = InfluentialTweetTracker(users, count = num_tweets)\n",
    "influential_tweets = tracker.findInfluentialTweets()\n",
    "\n",
    "for key in influential_tweets:\n",
    "    if influential_tweets[key] >= threshold:\n",
    "        print('https://twitter.com/any/status/%s - %s' % (key, influential_tweets[key]))"
   ]
  }
 ],
 "metadata": {
  "kernelspec": {
   "display_name": "Python 3",
   "language": "python",
   "name": "python3"
  },
  "language_info": {
   "codemirror_mode": {
    "name": "ipython",
    "version": 3
   },
   "file_extension": ".py",
   "mimetype": "text/x-python",
   "name": "python",
   "nbconvert_exporter": "python",
   "pygments_lexer": "ipython3",
   "version": "3.7.4"
  }
 },
 "nbformat": 4,
 "nbformat_minor": 2
}
